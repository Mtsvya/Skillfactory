{
 "cells": [
  {
   "cell_type": "code",
   "execution_count": 8,
   "id": "571c852d",
   "metadata": {},
   "outputs": [
    {
     "name": "stdout",
     "output_type": "stream",
     "text": [
      "Ваш алгоритм угадывает число в среднем за 5 попыток\n",
      "Wall time: 4 ms\n"
     ]
    },
    {
     "data": {
      "text/plain": [
       "5"
      ]
     },
     "execution_count": 8,
     "metadata": {},
     "output_type": "execute_result"
    }
   ],
   "source": [
    "%%time  \n",
    "# замер времени решения задачи\n",
    "import numpy as np\n",
    "\n",
    "\n",
    "def game_core_v1(number):\n",
    "    '''Функция бинарного поиска. Вариант 1 \n",
    "    Определяется число внутри отсортированного списка и алгоритм сравнивает его с загаданным числом.\n",
    "    Число внутри списка определяется как среднее арифметическое от крайних значений списка.\n",
    "    В случае несовпадения отбрасывается часть списка, в котором отсутствует загаданное число,\n",
    "    и алгоритм повторяется с оставшейся частью'''    \n",
    "    count = 1  # начальное значение счетчика попыток\n",
    "    left, right = 1, 100  # исходный диапазон поиска\n",
    "    predict = (left+right) // 2  # предполагаемое число - среднее значение внутри исходного диапазона      \n",
    "    while number != predict:\n",
    "        count += 1  # работа счетчика попыток\n",
    "        if number > predict:\n",
    "            left = predict + 1  # увеличение левого значения списка, если отбрасывается левая часть\n",
    "        elif number < predict:\n",
    "            right = predict - 1  # уменьшение правого значения списка, если отбрасывается правая часть\n",
    "        predict = (left+right) // 2  # предполагаемое число - среднее значение внутри нового диапазона \n",
    "    return count\n",
    "\n",
    "\n",
    "def score_game(game_core):\n",
    "    '''Запускаем игру 1000 раз, чтобы узнать, как быстро игра угадывает число'''\n",
    "    count_ls = []\n",
    "    np.random.seed(1)  # фиксируем RANDOM SEED, чтобы эксперимент по сравнению вариантов был воспроизводим\n",
    "    random_array = np.random.randint(1,101, size=(1000))   \n",
    "    for number in random_array:\n",
    "        count_ls.append(game_core(number))\n",
    "    score = int(np.mean(count_ls))\n",
    "    print(f\"Ваш алгоритм угадывает число в среднем за {score} попыток\")\n",
    "    return(score)\n",
    "\n",
    "\n",
    "score_game(game_core_v1)\n"
   ]
  },
  {
   "cell_type": "code",
   "execution_count": 9,
   "id": "ec54e320",
   "metadata": {
    "scrolled": true
   },
   "outputs": [
    {
     "name": "stdout",
     "output_type": "stream",
     "text": [
      "Ваш алгоритм угадывает число в среднем за 6 попыток\n",
      "Wall time: 6.01 ms\n"
     ]
    },
    {
     "data": {
      "text/plain": [
       "6"
      ]
     },
     "execution_count": 9,
     "metadata": {},
     "output_type": "execute_result"
    }
   ],
   "source": [
    "%%time\n",
    "import random\n",
    "\n",
    "\n",
    "def game_core_v2(number):\n",
    "    '''Функция бинарного поиска. Вариант 2 \n",
    "    Число внутри начального списка определяется рандомно внутри списка,\n",
    "    число внутри нового списка определяется как среднее арифметическое от крайних значений'''    \n",
    "    count = 1\n",
    "    left, right = 1, 100\n",
    "    predict = random.randint(left, right)  # предполагаемое число - случайное значение внутри исходного диапазона      \n",
    "    while number != predict:\n",
    "        count += 1\n",
    "        if number > predict:\n",
    "            left = predict + 1\n",
    "        elif number < predict:\n",
    "            right = predict - 1\n",
    "        predict = (left+right) // 2  # предполагаемое число - среднее значение внутри нового диапазона\n",
    "    return count\n",
    "\n",
    "\n",
    "score_game(game_core_v2)"
   ]
  },
  {
   "cell_type": "code",
   "execution_count": 10,
   "id": "b5bfa6a3",
   "metadata": {},
   "outputs": [
    {
     "name": "stdout",
     "output_type": "stream",
     "text": [
      "Ваш алгоритм угадывает число в среднем за 7 попыток\n",
      "Wall time: 15 ms\n"
     ]
    },
    {
     "data": {
      "text/plain": [
       "'ВЫВОД. \\n   Бинарный поиск элемента в отсортированном списке выполняет задачу быстрее \\n   и за меньшее количество попыток по сравнению с линейным.\\n   Бинарный поиск по среднему значению списка (Вариант 1) более эффективен,\\n   чем по рандомному значению (Варианты 2 и 3).'"
      ]
     },
     "execution_count": 10,
     "metadata": {},
     "output_type": "execute_result"
    }
   ],
   "source": [
    "%%time\n",
    "import random\n",
    "\n",
    "\n",
    "def game_core_v3(number):\n",
    "    '''Функция бинарного поиска. Вариант 3 \n",
    "    Число внутри начального списка определяется рандомно внутри списка,\n",
    "    число внутри нового списка определяется рандомно'''   \n",
    "    count = 1\n",
    "    left, right = 1, 100\n",
    "    predict = random.randint(left, right)  # предполагаемое число - случайное значение внутри исходного диапазона      \n",
    "    while number != predict:\n",
    "        count += 1\n",
    "        if number > predict:\n",
    "            left = predict + 1\n",
    "        elif number < predict:\n",
    "            right = predict - 1\n",
    "        predict = random.randint(left, right)  # предполагаемое число - случайное значение внутри нового диапазона\n",
    "    return count\n",
    "\n",
    "\n",
    "score_game(game_core_v3)\n",
    "\n",
    "\n",
    "'''ВЫВОД \n",
    "   Бинарный поиск элемента в отсортированном списке выполняет задачу быстрее \n",
    "   и за меньшее количество попыток по сравнению с линейным.\n",
    "   Бинарный поиск по среднему значению списка (Вариант 1) более эффективен,\n",
    "   чем по рандомному значению (Варианты 2 и 3)'''   "
   ]
  },
  {
   "cell_type": "code",
   "execution_count": null,
   "id": "52d0a588",
   "metadata": {},
   "outputs": [],
   "source": []
  }
 ],
 "metadata": {
  "kernelspec": {
   "display_name": "Python 3",
   "language": "python",
   "name": "python3"
  },
  "language_info": {
   "codemirror_mode": {
    "name": "ipython",
    "version": 3
   },
   "file_extension": ".py",
   "mimetype": "text/x-python",
   "name": "python",
   "nbconvert_exporter": "python",
   "pygments_lexer": "ipython3",
   "version": "3.8.8"
  }
 },
 "nbformat": 4,
 "nbformat_minor": 5
}
